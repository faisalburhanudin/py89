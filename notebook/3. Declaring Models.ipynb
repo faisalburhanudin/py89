{
 "cells": [
  {
   "cell_type": "markdown",
   "metadata": {},
   "source": [
    "# Deklarasi Model\n",
    "\n",
    "Lalu kita mendefinisikan Model sesuai dengan struktur tabel pada database. Misal pada kasus ini kita membuat sebuah tabel produk pada mysql dengan struktur seperti ini.\n",
    "\n",
    "![Tableproducts](img/products_tbl.png)\n",
    "\n",
    "## sqlnya: \n",
    "```sql\n",
    "CREATE TABLE `pos`.`products` (\n",
    "  `id` INT NOT NULL AUTO_INCREMENT,\n",
    "  `name` VARCHAR(45) NOT NULL,\n",
    "  `price` INT NOT NULL,\n",
    "  `stock` INT NOT NULL,\n",
    "  PRIMARY KEY (`id`));\n",
    "```\n",
    "\n",
    "## Model pada sqlalchemy:\n",
    "\n",
    "```python\n",
    "\n",
    "# pos/models/products.py\n",
    "from pos.models import db\n",
    "\n",
    "\n",
    "class Products(db.Model):\n",
    "\n",
    "    id = db.Column(db.Integer, primary_key=True, autoincrement=True)\n",
    "\n",
    "    name = db.Column(db.String(20), nullable=False)\n",
    "\n",
    "    price = db.Column(db.Integer, nullable=False)\n",
    "\n",
    "    stock = db.Column(db.Integer, nullable=False)\n",
    "\n",
    "```\n",
    "---\n",
    "Berikut adalah tipe lain yang sering digunakan\n",
    "\n",
    "| Type          | Keterangan                                         |\n",
    "| --------------|----------------------------------------------------|\n",
    "| Integer\t    | an integer                                         |\n",
    "| String (size)\t| a string with a maximum length                     |\n",
    "| Text          | some longer unicode text                           |\n",
    "| DateTime\t    | date and time expressed as Python datetime object. |\n",
    "| Float\t        | stores floating point values                       |\n",
    "| Boolean\t    | stores a boolean value                             |\n",
    "| PickleType\t| stores a pickled Python object                     |\n",
    "| LargeBinary\t| stores large arbitrary binary data                 |"
   ]
  },
  {
   "cell_type": "code",
   "execution_count": null,
   "metadata": {
    "collapsed": true
   },
   "outputs": [],
   "source": []
  }
 ],
 "metadata": {
  "kernelspec": {
   "display_name": "Python 3",
   "language": "python",
   "name": "python3"
  },
  "language_info": {
   "codemirror_mode": {
    "name": "ipython",
    "version": 3
   },
   "file_extension": ".py",
   "mimetype": "text/x-python",
   "name": "python",
   "nbconvert_exporter": "python",
   "pygments_lexer": "ipython3",
   "version": "3.4.5"
  }
 },
 "nbformat": 4,
 "nbformat_minor": 2
}
