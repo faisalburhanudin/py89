{
 "cells": [
  {
   "cell_type": "code",
   "execution_count": 1,
   "metadata": {},
   "outputs": [],
   "source": [
    "# abaikan script ini\n",
    "import os\n",
    "import sys\n",
    "sys.path.append(os.path.join(os.path.dirname(os.getcwd()), 'pos'))\n",
    "\n",
    "from pos import http\n",
    "from pos import config\n",
    "from pos.models import db\n",
    "\n",
    "class Config(config.Config):\n",
    "        SQLALCHEMY_DATABASE_URI = 'sqlite:///:memory:'\n",
    "        \n",
    "app = http.create_app(Config)\n",
    "app.app_context().push()\n",
    "db.create_all()"
   ]
  },
  {
   "cell_type": "markdown",
   "metadata": {},
   "source": [
    "# CRUD\n",
    "\n",
    "Dibahas akan dibahas bagaimana melakukan insert pada database, membaca data pada database, mengupdate data dan menghapus data\n",
    "\n",
    "## Create\n",
    "\n",
    "Untuk membuat entry data baru pada database kita cukup membuat instansiasi object pada class model lalu menambahkannya ke session, misal kita akan menambahkan data pada table `products`"
   ]
  },
  {
   "cell_type": "code",
   "execution_count": 8,
   "metadata": {},
   "outputs": [],
   "source": [
    "from pos.models import db\n",
    "from pos.models.products import Products\n",
    "\n",
    "product = Products()\n",
    "product.name = \"Sabun\"\n",
    "product.price = 5000\n",
    "product.stock = 10\n",
    "\n",
    "db.session.add(product)\n",
    "db.session.commit()"
   ]
  },
  {
   "cell_type": "markdown",
   "metadata": {
    "collapsed": true
   },
   "source": [
    "## Read\n",
    "\n",
    "Proses baca database kita akan menggunakan `query`"
   ]
  },
  {
   "cell_type": "code",
   "execution_count": 12,
   "metadata": {},
   "outputs": [
    {
     "name": "stdout",
     "output_type": "stream",
     "text": [
      "Sabun\n"
     ]
    }
   ],
   "source": [
    "# melihat semua product\n",
    "product = Products.query.all()\n",
    "\n",
    "print(product[1].name)"
   ]
  },
  {
   "cell_type": "code",
   "execution_count": 9,
   "metadata": {},
   "outputs": [
    {
     "name": "stdout",
     "output_type": "stream",
     "text": [
      "<pos.models.products.Products object at 0x7f7bf2bb3a90>\n"
     ]
    }
   ],
   "source": [
    "# melihat product pertama\n",
    "product = Products.query.first()\n",
    "print(product)"
   ]
  },
  {
   "cell_type": "markdown",
   "metadata": {},
   "source": [
    "Untuk melakukan pengkodisian data mana yang akan diambil kita bisa menggunakan `filter` atau `filter_by` yang jika di lakukan di database `where`, perbedaan diantara keduanya yaitu `filter_by` hanya bisa digunakan untuk operasi sama dengan `=`."
   ]
  },
  {
   "cell_type": "code",
   "execution_count": 18,
   "metadata": {},
   "outputs": [
    {
     "name": "stdout",
     "output_type": "stream",
     "text": [
      "Sabun\n"
     ]
    }
   ],
   "source": [
    "# hanya mengambil dengan id = 1\n",
    "product = Products.query.filter_by(id=2).first()\n",
    "print(product.name)"
   ]
  },
  {
   "cell_type": "code",
   "execution_count": 21,
   "metadata": {},
   "outputs": [
    {
     "name": "stdout",
     "output_type": "stream",
     "text": [
      "<pos.models.products.Products object at 0x7f59f702a9e8>\n"
     ]
    }
   ],
   "source": [
    "# atau\n",
    "product = Products.query.filter(Products.id >= 1).first()\n",
    "print(product)"
   ]
  },
  {
   "cell_type": "code",
   "execution_count": 12,
   "metadata": {},
   "outputs": [
    {
     "name": "stdout",
     "output_type": "stream",
     "text": [
      "[]\n"
     ]
    }
   ],
   "source": [
    "# mengambil semua product dengan id != 1\n",
    "product = Products.query.filter(Products.id != 1).all()\n",
    "print(product)"
   ]
  },
  {
   "cell_type": "code",
   "execution_count": 13,
   "metadata": {},
   "outputs": [
    {
     "name": "stdout",
     "output_type": "stream",
     "text": [
      "[<pos.models.products.Products object at 0x7f7bf2bc4a58>]\n"
     ]
    }
   ],
   "source": [
    "# mengambil semua product dengan id lebih dari 1\n",
    "product = Products.query.filter(Products.id >= 1).all()\n",
    "print(product)"
   ]
  },
  {
   "cell_type": "code",
   "execution_count": 14,
   "metadata": {},
   "outputs": [
    {
     "name": "stdout",
     "output_type": "stream",
     "text": [
      "[<pos.models.products.Products object at 0x7f7bf2bc4a58>]\n"
     ]
    }
   ],
   "source": [
    "# mengambil semua product dengan id kurang dari 1\n",
    "product = Products.query.filter(Products.id <= 1).all()\n",
    "print(product)"
   ]
  },
  {
   "cell_type": "markdown",
   "metadata": {},
   "source": [
    "## Update\n",
    "\n",
    "Untuk mengupdate data yang perlu kita lakukaan adalah mengambil object data yg ingin di update, untuk kemudian kita mengubah properti pada object tersebut."
   ]
  },
  {
   "cell_type": "code",
   "execution_count": 22,
   "metadata": {},
   "outputs": [
    {
     "name": "stdout",
     "output_type": "stream",
     "text": [
      "Sikat gigi\n"
     ]
    }
   ],
   "source": [
    "# mengangambil product dengan id == 1\n",
    "product = Products.query.filter_by(id=1).first()\n",
    "\n",
    "# lihat sebelum di ubah\n",
    "print(product.name)"
   ]
  },
  {
   "cell_type": "code",
   "execution_count": 23,
   "metadata": {
    "collapsed": true
   },
   "outputs": [],
   "source": [
    "# ubah nama\n",
    "product.name = \"sikat gusi\"\n",
    "db.session.add(product)\n",
    "db.session.commit()"
   ]
  },
  {
   "cell_type": "code",
   "execution_count": 24,
   "metadata": {},
   "outputs": [
    {
     "name": "stdout",
     "output_type": "stream",
     "text": [
      "sikat gusi\n"
     ]
    }
   ],
   "source": [
    "# cek lagi\n",
    "product = Products.query.filter_by(id=1).first()\n",
    "\n",
    "# setelah di ubah\n",
    "print(product.name)"
   ]
  },
  {
   "cell_type": "markdown",
   "metadata": {},
   "source": [
    "## Delete\n",
    "\n",
    "Hampir sama seperti update hanya saja kita akan menggunakan `session.delete`"
   ]
  },
  {
   "cell_type": "code",
   "execution_count": 25,
   "metadata": {
    "collapsed": true
   },
   "outputs": [],
   "source": [
    "# mengangambil product dengan id == 1\n",
    "product = Products.query.filter_by(id=1).first()\n",
    "db.session.delete(product)\n",
    "db.session.commit()"
   ]
  },
  {
   "cell_type": "code",
   "execution_count": 26,
   "metadata": {},
   "outputs": [
    {
     "name": "stdout",
     "output_type": "stream",
     "text": [
      "None\n"
     ]
    }
   ],
   "source": [
    "# check apakah masih ada\n",
    "product = Products.query.filter_by(id=1).first()\n",
    "print(product)"
   ]
  },
  {
   "cell_type": "code",
   "execution_count": null,
   "metadata": {
    "collapsed": true
   },
   "outputs": [],
   "source": []
  }
 ],
 "metadata": {
  "kernelspec": {
   "display_name": "Python 3",
   "language": "python",
   "name": "python3"
  },
  "language_info": {
   "codemirror_mode": {
    "name": "ipython",
    "version": 3
   },
   "file_extension": ".py",
   "mimetype": "text/x-python",
   "name": "python",
   "nbconvert_exporter": "python",
   "pygments_lexer": "ipython3",
   "version": "3.4.5"
  }
 },
 "nbformat": 4,
 "nbformat_minor": 2
}
