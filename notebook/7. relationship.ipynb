{
 "cells": [
  {
   "cell_type": "code",
   "execution_count": 1,
   "metadata": {
    "collapsed": true
   },
   "outputs": [],
   "source": [
    "# just ignore this\n",
    "import os\n",
    "import sys\n",
    "sys.path.append(os.path.join(os.path.dirname(os.getcwd()), 'pos'))\n",
    "\n",
    "from pos import http\n",
    "from pos import config\n",
    "from pos.models import db\n",
    "\n",
    "class Config(config.Config):\n",
    "        SQLALCHEMY_DATABASE_URI = 'sqlite:///:memory:'\n",
    "        \n",
    "app = http.create_app(Config)\n",
    "app.app_context().push()\n",
    "db.create_all()"
   ]
  },
  {
   "cell_type": "markdown",
   "metadata": {
    "collapsed": true
   },
   "source": [
    "# Relationship\n",
    "\n",
    "Relationships bisa dilakukan dengan menggunakan fungsi `relationship()` dan  `sqlalchemy.schema.ForeignKey`.\n",
    "\n",
    "Misal pada kasus ini kita akan membuat table `transaction` dan `transaction_products`, dengan schema sebagai berikut.\n",
    "\n",
    "![Relation](img/relations.png)\n",
    "\n",
    "### SQL\n",
    "\n",
    "```sql\n",
    "\n",
    "CREATE TABLE `pos`.`transactions` (\n",
    "  `id` INT NOT NULL AUTO_INCREMENT,\n",
    "  `transactionscol` DATETIME NOT NULL,\n",
    "PRIMARY KEY (`id`));\n",
    "\n",
    "CREATE TABLE `pos`.`transaction_products` (\n",
    "  `id` INT NOT NULL AUTO_INCREMENT,\n",
    "  `transaction_id` INT NOT NULL,\n",
    "  `product_id` INT NOT NULL,\n",
    "  `product_qty` INT NOT NULL,\n",
    "  PRIMARY KEY (`id`));\n",
    "\n",
    "```\n",
    "\n",
    "### Model\n",
    "\n",
    "```python\n",
    "# pos/models/transactions.py\n",
    "\n",
    "class Transactions(db.Model):\n",
    "\n",
    "    id = db.Column(db.Integer, primary_key=True, autoincrement=True)\n",
    "\n",
    "    create_on = db.Column(db.DateTime, nullable=False)\n",
    "\n",
    "    def __init__(self):\n",
    "        self.create_on = datetime.now()\n",
    "\n",
    "```\n",
    "\n",
    "\n",
    "```python\n",
    "# pos/models/transactions_products.py\n",
    "\n",
    "class TransactionProducts(db.Model):\n",
    "\n",
    "    id = db.Column(db.Integer, primary_key=True, autoincrement=True)\n",
    "\n",
    "    transaction_id = db.Column(db.Integer, db.ForeignKey(\"transactions.id\"), nullable=False)\n",
    "\n",
    "    product_id = db.Column(db.Integer, db.ForeignKey(\"products.id\"), nullable=False)\n",
    "\n",
    "    product_qty = db.Column(db.Integer, nullable=False)\n",
    "\n",
    "    transaction = relationship(\"Transactions\", backref=\"transaction_products\")\n",
    "\n",
    "    product = relationship(\"Products\", backref=\"transaction_products\")\n",
    "\n",
    "```\n",
    "Perhatikan `ForeignKey` yang merujuk ke kunci tamu, dan `relationship` yang digunakan untuk menghubungkan ke model lain.\n",
    "\n",
    "## CRUD\n",
    "\n",
    "Untuk operasi insert, update, delete, select sama seperti model pada biasanya, hanya saja dengan ini kita bisa langsung mengakses object lain yang berelasi.\n",
    "\n",
    "contoh:"
   ]
  },
  {
   "cell_type": "code",
   "execution_count": 6,
   "metadata": {
    "collapsed": true
   },
   "outputs": [],
   "source": [
    "from pos.models.products import Products\n",
    "from pos.models.transaction import Transactions\n",
    "from pos.models.transaction_products import TransactionProducts\n",
    "\n",
    "# membuat product\n",
    "food = Products()\n",
    "food.name = \"Makanan\"\n",
    "food.price = 5000\n",
    "food.stock = 10\n",
    "\n",
    "beverage = Products()\n",
    "beverage.name = \"Minuman\"\n",
    "beverage.price = 10000\n",
    "beverage.stock = 10\n",
    "\n",
    "db.session.add_all([food, beverage])\n",
    "db.session.flush()"
   ]
  },
  {
   "cell_type": "code",
   "execution_count": 7,
   "metadata": {
    "collapsed": true
   },
   "outputs": [],
   "source": [
    "# membuat transaksi\n",
    "transaction = Transactions()\n",
    "db.session.add(transaction)\n",
    "db.session.flush()"
   ]
  },
  {
   "cell_type": "code",
   "execution_count": 8,
   "metadata": {
    "collapsed": true
   },
   "outputs": [],
   "source": [
    "# menghubungkan dengan detail transaksi\n",
    "transaction_products = TransactionProducts()\n",
    "transaction_products.transaction_id = transaction.id\n",
    "transaction_products.product_id = food.id\n",
    "transaction_products.product_qty = 2\n",
    "\n",
    "transaction_products2 = TransactionProducts()\n",
    "transaction_products2.transaction_id = transaction.id\n",
    "transaction_products2.product_id = beverage.id\n",
    "transaction_products2.product_qty = 2\n",
    "\n",
    "db.session.add_all([transaction_products, transaction_products2])\n",
    "db.session.commit()"
   ]
  },
  {
   "cell_type": "code",
   "execution_count": 11,
   "metadata": {},
   "outputs": [
    {
     "data": {
      "text/plain": [
       "[<pos.models.transaction_products.TransactionProducts at 0x7f0a6c81aa58>,\n",
       " <pos.models.transaction_products.TransactionProducts at 0x7f0a6c81a080>]"
      ]
     },
     "execution_count": 11,
     "metadata": {},
     "output_type": "execute_result"
    }
   ],
   "source": [
    "# mengambil semua product di transaksi\n",
    "# perhatikan backref pada relationship di model, dengan menggunakan backref('transaction_products') berarti \n",
    "# kita bisa membuat model transaction mengakses `TransactionProducts` dengan keyword `transaction_products`\n",
    "transaction.transaction_products"
   ]
  },
  {
   "cell_type": "code",
   "execution_count": null,
   "metadata": {
    "collapsed": true
   },
   "outputs": [],
   "source": []
  }
 ],
 "metadata": {
  "kernelspec": {
   "display_name": "Python 3",
   "language": "python",
   "name": "python3"
  },
  "language_info": {
   "codemirror_mode": {
    "name": "ipython",
    "version": 3
   },
   "file_extension": ".py",
   "mimetype": "text/x-python",
   "name": "python",
   "nbconvert_exporter": "python",
   "pygments_lexer": "ipython3",
   "version": "3.4.5"
  }
 },
 "nbformat": 4,
 "nbformat_minor": 2
}
