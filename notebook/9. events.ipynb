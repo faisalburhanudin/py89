{
 "cells": [
  {
   "cell_type": "markdown",
   "metadata": {
    "collapsed": true
   },
   "source": [
    "# Event\n",
    "\n",
    "Subscribe pada suatu event jika terjadi sesuatu, misal pada kasus ini kita akan mengurangi stock product pada table product jika terjadi transaksi baru.\n",
    "\n",
    "```python\n",
    "@event.listens_for(db.session, \"before_flush\")\n",
    "def reduce_stock_product(*arg):\n",
    "    sess = arg[0]\n",
    "    for obj in sess.new:\n",
    "        if not isinstance(obj, TransactionProducts):\n",
    "            continue\n",
    "\n",
    "        product = Products.query.filter_by(id=obj.product_id).first()\n",
    "        product.stock = product.stock - obj.product_qty\n",
    "        db.session.add(product)\n",
    "```\n",
    "\n",
    "Pada sqlalchemy ada beberapa event, beberapa diantaranya antara lain.\n",
    "\n",
    "## Persistence Events\n",
    "\n",
    "### before_flush()\n",
    "\n",
    "Akan dijalankan sebelum session dilakukan flush. Baik digunakan jika actionnya merubah database.\n",
    "\n",
    "```python\n",
    "\n",
    "@event.listens_for(db.session, \"before_flush\")\n",
    "def eventlisten(*arg):\n",
    "    # action\n",
    "\n",
    "```\n",
    "\n",
    "### after_flush()\n",
    "\n",
    "Akan dijalankan setelah session di flush. Baik digunakan jika actionnya merubah database.\n",
    "\n",
    "```python\n",
    "\n",
    "@event.listens_for(db.session, \"after_flush\")\n",
    "def eventlisten(*arg):\n",
    "    # action\n",
    "\n",
    "```\n",
    "\n",
    "### Mapper-level Events\n",
    "\n",
    "Event yang digunakan pada level Model. Event ini hanya boleh digunakan jika actionnya tidak merubah database.\n",
    "\n",
    "```\n",
    "MapperEvents.before_insert()\n",
    "MapperEvents.after_insert()\n",
    "MapperEvents.before_update()\n",
    "MapperEvents.after_update()\n",
    "MapperEvents.before_delete()\n",
    "MapperEvents.after_delete()\n",
    "```\n",
    "\n",
    "contoh:\n",
    "\n",
    "```python\n",
    "\n",
    "@event.listens_for(Products, \"before_insert\")\n",
    "def eventlistend(*arg):\n",
    "    # action\n",
    "```"
   ]
  },
  {
   "cell_type": "code",
   "execution_count": null,
   "metadata": {
    "collapsed": true
   },
   "outputs": [],
   "source": []
  }
 ],
 "metadata": {
  "kernelspec": {
   "display_name": "Python 3",
   "language": "python",
   "name": "python3"
  },
  "language_info": {
   "codemirror_mode": {
    "name": "ipython",
    "version": 3
   },
   "file_extension": ".py",
   "mimetype": "text/x-python",
   "name": "python",
   "nbconvert_exporter": "python",
   "pygments_lexer": "ipython3",
   "version": "3.4.5"
  }
 },
 "nbformat": 4,
 "nbformat_minor": 2
}
